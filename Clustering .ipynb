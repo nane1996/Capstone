{
 "cells": [
  {
   "cell_type": "code",
   "execution_count": null,
   "metadata": {},
   "outputs": [],
   "source": [
    "import pandas as pd \n",
    "import numpy as np\n",
    "from sklearn.cluster import KMeans\n",
    "import numpy as np\n",
    "import matplotlib.pyplot as plt\n",
    "from sklearn.metrics import silhouette_score\n",
    "from scikitplot.cluster import plot_elbow_curve"
   ]
  },
  {
   "cell_type": "code",
   "execution_count": 2,
   "metadata": {},
   "outputs": [],
   "source": [
    "data=pd.read_csv(\"BlackFriday.csv\")"
   ]
  },
  {
   "cell_type": "code",
   "execution_count": 3,
   "metadata": {},
   "outputs": [],
   "source": [
    "data.drop(\"User_ID\", axis=1, inplace=True)"
   ]
  },
  {
   "cell_type": "code",
   "execution_count": 4,
   "metadata": {},
   "outputs": [],
   "source": [
    "data.drop(\"Product_ID\", axis=1, inplace=True)"
   ]
  },
  {
   "cell_type": "code",
   "execution_count": 5,
   "metadata": {},
   "outputs": [],
   "source": [
    "three = data.Product_Category_3.apply(lambda x: 3 if str(x)!=\"nan\" else 0 )\n",
    "two = data.Product_Category_2.apply(lambda x: 1 if str(x)==\"nan\" else 0 )\n",
    "data['Product']=(two+three).replace(0,2)"
   ]
  },
  {
   "cell_type": "code",
   "execution_count": 6,
   "metadata": {},
   "outputs": [],
   "source": [
    "to_drop = ['Product_Category_1', 'Product_Category_2', 'Product_Category_3', 'Purchase']\n",
    "data.drop(to_drop, axis=1, inplace=True)"
   ]
  },
  {
   "cell_type": "code",
   "execution_count": 7,
   "metadata": {},
   "outputs": [],
   "source": [
    "def gen_other(n_top, df, field):\n",
    "\tkeys = list(df[field].value_counts().nlargest(int(n_top)).to_dict().keys())\n",
    "\tdf[field] = df[field].apply(lambda x:x if x in keys else 'other')"
   ]
  },
  {
   "cell_type": "code",
   "execution_count": 8,
   "metadata": {},
   "outputs": [],
   "source": [
    "data['Occupation'] = data['Occupation'].astype('str')\n",
    "data['Marital_Status'] = data['Marital_Status'].astype('str')"
   ]
  },
  {
   "cell_type": "code",
   "execution_count": 9,
   "metadata": {},
   "outputs": [],
   "source": [
    "ntop = 5 \n",
    "columns =['Gender', 'City_Category', 'Stay_In_Current_City_Years', 'Occupation', \n",
    "            'Age']\n",
    "for column in columns:\n",
    "    gen_other(ntop, data, column)"
   ]
  },
  {
   "cell_type": "code",
   "execution_count": 10,
   "metadata": {},
   "outputs": [],
   "source": [
    "data_new1 = data[['Marital_Status','Product']]"
   ]
  },
  {
   "cell_type": "code",
   "execution_count": 11,
   "metadata": {},
   "outputs": [],
   "source": [
    "for column in columns:\n",
    "\tdummy = pd.get_dummies(data[column])\n",
    "\tdata_new1 = pd.concat([data_new1, dummy], axis = 1)"
   ]
  },
  {
   "cell_type": "code",
   "execution_count": 12,
   "metadata": {},
   "outputs": [],
   "source": [
    "del data"
   ]
  },
  {
   "cell_type": "code",
   "execution_count": 13,
   "metadata": {},
   "outputs": [],
   "source": [
    "data_new1 = data_new1.drop(['other', 'M', 'C'], axis = 1)"
   ]
  },
  {
   "cell_type": "code",
   "execution_count": 15,
   "metadata": {},
   "outputs": [
    {
     "name": "stdout",
     "output_type": "stream",
     "text": [
      "<class 'pandas.core.frame.DataFrame'>\n",
      "RangeIndex: 537577 entries, 0 to 537576\n",
      "Data columns (total 20 columns):\n",
      "Marital_Status    537577 non-null object\n",
      "Product           537577 non-null int64\n",
      "F                 537577 non-null uint8\n",
      "A                 537577 non-null uint8\n",
      "B                 537577 non-null uint8\n",
      "0                 537577 non-null uint8\n",
      "1                 537577 non-null uint8\n",
      "2                 537577 non-null uint8\n",
      "3                 537577 non-null uint8\n",
      "4+                537577 non-null uint8\n",
      "0                 537577 non-null uint8\n",
      "1                 537577 non-null uint8\n",
      "17                537577 non-null uint8\n",
      "4                 537577 non-null uint8\n",
      "7                 537577 non-null uint8\n",
      "18-25             537577 non-null uint8\n",
      "26-35             537577 non-null uint8\n",
      "36-45             537577 non-null uint8\n",
      "46-50             537577 non-null uint8\n",
      "51-55             537577 non-null uint8\n",
      "dtypes: int64(1), object(1), uint8(18)\n",
      "memory usage: 17.4+ MB\n"
     ]
    }
   ],
   "source": [
    "data_new1.info()"
   ]
  },
  {
   "cell_type": "code",
   "execution_count": 16,
   "metadata": {},
   "outputs": [],
   "source": [
    "model1_cluster = KMeans(5,random_state=42)\n"
   ]
  },
  {
   "cell_type": "code",
   "execution_count": 17,
   "metadata": {},
   "outputs": [
    {
     "data": {
      "text/plain": [
       "array([4, 3, 4, ..., 2, 2, 2])"
      ]
     },
     "execution_count": 17,
     "metadata": {},
     "output_type": "execute_result"
    }
   ],
   "source": [
    "model1_cluster.fit_predict(data_new1)\n"
   ]
  },
  {
   "cell_type": "code",
   "execution_count": 18,
   "metadata": {},
   "outputs": [
    {
     "data": {
      "text/plain": [
       "array([[ 2.04092456e-01,  2.45504633e+00,  2.41437221e-01,\n",
       "         2.68749724e-01,  4.30459186e-01,  1.62991117e-01,\n",
       "         3.20163227e-01,  1.94826240e-01,  1.57879230e-01,\n",
       "         1.64140187e-01,  8.95979729e-02,  3.71532535e-02,\n",
       "         4.15727523e-02,  4.85054728e-01,  1.92542832e-02,\n",
       "         1.00000000e+00,  4.06785716e-13,  1.90458760e-13,\n",
       "        -1.07733267e-13,  6.74321710e-14],\n",
       "       [ 3.78735883e-01,  1.54983257e+00,  2.18776648e-01,\n",
       "         3.66766498e-01,  4.10661176e-01,  1.95638610e-01,\n",
       "        -9.34807787e-13,  2.75150267e-01,  2.80193840e-01,\n",
       "         2.49017283e-01,  1.53563778e-01,  8.85588902e-02,\n",
       "         7.89501050e-02,  1.05967014e-01,  1.07974044e-01,\n",
       "        -1.60232938e-13,  1.00000000e+00,  7.27751193e-14,\n",
       "        -1.30853661e-13,  7.42184092e-14],\n",
       "       [ 4.50949407e-01,  1.50884533e+00,  2.80247519e-01,\n",
       "         2.61192851e-01,  4.33583126e-01, -2.57571742e-13,\n",
       "         1.00000000e+00, -6.90003610e-14,  2.19047003e-13,\n",
       "        -8.03523914e-14,  1.29465288e-01,  9.33437575e-02,\n",
       "         5.92932057e-02,  7.55865694e-02,  1.22670149e-01,\n",
       "         8.14917701e-02,  4.37583692e-01,  2.11414504e-01,\n",
       "         1.03224572e-01,  9.76437417e-02],\n",
       "       [ 4.47773055e-01,  3.00000000e+00,  2.24621221e-01,\n",
       "         2.46707000e-01,  4.13317440e-01,  1.28766240e-01,\n",
       "         3.54047185e-01,  1.88358860e-01,  1.79437585e-01,\n",
       "         1.49390130e-01,  1.33729168e-01,  9.03672717e-02,\n",
       "         9.29237044e-02,  5.53568885e-02,  1.27371822e-01,\n",
       "         2.87742052e-13,  4.94163687e-01,  2.45582469e-01,\n",
       "         9.84713882e-02,  8.26005143e-02],\n",
       "       [ 4.63164654e-01,  1.46090466e+00,  2.59465275e-01,\n",
       "         2.23613984e-01,  4.21308960e-01,  2.14090333e-01,\n",
       "        -1.10922382e-12,  2.88961905e-01,  2.64493962e-01,\n",
       "         2.32453799e-01,  1.15643138e-01,  9.72046167e-02,\n",
       "         7.63226366e-02,  9.40189472e-02,  1.19896257e-01,\n",
       "         1.66413703e-01, -2.93209901e-13,  4.11318300e-01,\n",
       "         1.58282741e-01,  1.23924211e-01]])"
      ]
     },
     "execution_count": 18,
     "metadata": {},
     "output_type": "execute_result"
    }
   ],
   "source": [
    "model1_cluster.cluster_centers_\n"
   ]
  },
  {
   "cell_type": "code",
   "execution_count": 19,
   "metadata": {},
   "outputs": [
    {
     "data": {
      "text/plain": [
       "1353197.1115228655"
      ]
     },
     "execution_count": 19,
     "metadata": {},
     "output_type": "execute_result"
    }
   ],
   "source": [
    "model1_cluster.inertia_\n"
   ]
  },
  {
   "cell_type": "code",
   "execution_count": 20,
   "metadata": {},
   "outputs": [
    {
     "name": "stdout",
     "output_type": "stream",
     "text": [
      "{1: 1832991.1725873689, 2: 1593043.0090670877, 3: 1481124.729476766, 4: 1404929.1601382117, 5: 1353197.1115228655, 6: 1303763.5447649918, 7: 1257669.7994408773, 8: 1235160.5045173252, 9: 1202141.494749553, 10: 1166777.9506251724}\n"
     ]
    }
   ],
   "source": [
    "sse={}\n",
    "for k in range(1,11):\n",
    "    cluster_wine=KMeans(k,random_state=42)\n",
    "    cluster_wine.fit_predict(data_new1)\n",
    "    sse[k] = cluster_wine.inertia_ #Sum of squared distances of samples to their closest cluster center, \n",
    "                                        #other measures of distances can also be taken\n",
    "        \n",
    "#lets see what sse contains\n",
    "print(sse)"
   ]
  },
  {
   "cell_type": "code",
   "execution_count": 21,
   "metadata": {
    "scrolled": true
   },
   "outputs": [
    {
     "data": {
      "image/png": "[encoded data removed]",
      "text/plain": [
       "<Figure size 432x288 with 1 Axes>"
      ]
     },
     "metadata": {
      "needs_background": "light"
     },
     "output_type": "display_data"
    }
   ],
   "source": [
    "plt.figure()\n",
    "plt.plot(sse.keys(),sse.values(), marker=\"o\") #sse is dictionary \n",
    "plt.xlabel(\"Number of cluster\")\n",
    "plt.ylabel(\"SSE\")\n",
    "plt.show()"
   ]
  },
  {
   "cell_type": "code",
   "execution_count": 22,
   "metadata": {},
   "outputs": [],
   "source": [
    "model1_cluster = KMeans(4,random_state=42)\n"
   ]
  },
  {
   "cell_type": "code",
   "execution_count": 23,
   "metadata": {},
   "outputs": [
    {
     "data": {
      "text/plain": [
       "array([3, 2, 3, ..., 3, 3, 3])"
      ]
     },
     "execution_count": 23,
     "metadata": {},
     "output_type": "execute_result"
    }
   ],
   "source": [
    "model1_cluster.fit_predict(data_new1)\n"
   ]
  },
  {
   "cell_type": "code",
   "execution_count": 24,
   "metadata": {},
   "outputs": [
    {
     "data": {
      "text/plain": [
       "array([[ 2.08359923e-01,  1.82044328e+00,  2.51951303e-01,\n",
       "         2.84423936e-01,  4.38208728e-01,  1.67124834e-01,\n",
       "         3.17117471e-01,  1.97989789e-01,  1.52631191e-01,\n",
       "         1.65136714e-01,  7.38181729e-02,  3.16381130e-02,\n",
       "         2.92204605e-02,  5.82396544e-01,  1.77826322e-02,\n",
       "         9.98539591e-01,  5.79369885e-13,  2.76445533e-13,\n",
       "         2.57719307e-04,  4.78621570e-04],\n",
       "       [ 3.90740318e-01,  1.55002218e+00,  2.41870219e-01,\n",
       "         3.49684757e-01,  4.17942651e-01,  1.26453547e-01,\n",
       "         3.53637060e-01,  1.77846936e-01,  1.81106914e-01,\n",
       "         1.60955543e-01,  1.56687324e-01,  8.81471225e-02,\n",
       "         7.16119752e-02,  9.76245849e-02,  1.10509901e-01,\n",
       "         4.07396339e-13,  1.00000000e+00, -3.46722651e-13,\n",
       "        -1.50476853e-13, -1.13853371e-13],\n",
       "       [ 4.23294961e-01,  3.00000000e+00,  2.23790996e-01,\n",
       "         2.45724867e-01,  4.13822149e-01,  1.33094006e-01,\n",
       "         3.53609295e-01,  1.86314227e-01,  1.77957830e-01,\n",
       "         1.49024641e-01,  1.38228176e-01,  8.83037183e-02,\n",
       "         9.25487679e-02,  4.93629083e-02,  1.17270333e-01,\n",
       "         1.08278850e-01,  4.40656211e-01,  2.18991082e-01,\n",
       "         8.78090196e-02,  7.36566256e-02],\n",
       "       [ 5.15624505e-01,  1.55166008e+00,  2.67585096e-01,\n",
       "         2.07191900e-01,  4.22898189e-01,  1.29237382e-01,\n",
       "         3.66727318e-01,  1.83835976e-01,  1.73147027e-01,\n",
       "         1.47052297e-01,  1.14858654e-01,  1.08220854e-01,\n",
       "         7.74156327e-02,  9.49706149e-03,  1.41847299e-01,\n",
       "         4.56467575e-04, -7.49733609e-13,  4.73845042e-01,\n",
       "         1.98880386e-01,  1.68392156e-01]])"
      ]
     },
     "execution_count": 24,
     "metadata": {},
     "output_type": "execute_result"
    }
   ],
   "source": [
    "model1_cluster.cluster_centers_\n"
   ]
  },
  {
   "cell_type": "code",
   "execution_count": 25,
   "metadata": {},
   "outputs": [
    {
     "data": {
      "text/plain": [
       "1404929.1601382117"
      ]
     },
     "execution_count": 25,
     "metadata": {},
     "output_type": "execute_result"
    }
   ],
   "source": [
    "model1_cluster.inertia_\n"
   ]
  }
 ],
 "metadata": {
  "kernelspec": {
   "display_name": "Python 3",
   "language": "python",
   "name": "python3"
  },
  "language_info": {
   "codemirror_mode": {
    "name": "ipython",
    "version": 3
   },
   "file_extension": ".py",
   "mimetype": "text/x-python",
   "name": "python",
   "nbconvert_exporter": "python",
   "pygments_lexer": "ipython3",
   "version": "3.7.1"
  }
 },
 "nbformat": 4,
 "nbformat_minor": 2
}
