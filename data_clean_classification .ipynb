{
 "cells": [
  {
   "cell_type": "code",
   "execution_count": 1,
   "metadata": {},
   "outputs": [],
   "source": [
    "import numpy as np\n",
    "import pandas as pd"
   ]
  },
  {
   "cell_type": "code",
   "execution_count": 2,
   "metadata": {},
   "outputs": [],
   "source": [
    "data=pd.read_csv(\"BlackFriday.csv\")"
   ]
  },
  {
   "cell_type": "code",
   "execution_count": 3,
   "metadata": {},
   "outputs": [],
   "source": [
    "three = data.Product_Category_3.apply(lambda x: 3 if str(x)!=\"nan\" else 0 )\n",
    "two = data.Product_Category_2.apply(lambda x: 1 if str(x)==\"nan\" else 0 )\n",
    "data['Product']=(two+three).replace(0,2)"
   ]
  },
  {
   "cell_type": "code",
   "execution_count": 4,
   "metadata": {},
   "outputs": [],
   "source": [
    "to_drop = ['Product_Category_1', 'Product_Category_2', 'Product_Category_3', 'Purchase']\n",
    "data.drop(to_drop, axis=1, inplace=True)"
   ]
  },
  {
   "cell_type": "code",
   "execution_count": 5,
   "metadata": {},
   "outputs": [],
   "source": [
    "def gen_other(n_top, df, field):\n",
    "\tkeys = list(df[field].value_counts().nlargest(int(n_top)).to_dict().keys())\n",
    "\tdf[field] = df[field].apply(lambda x:x if x in keys else 'other')"
   ]
  },
  {
   "cell_type": "code",
   "execution_count": 6,
   "metadata": {},
   "outputs": [],
   "source": [
    "data['User_ID'] = data['User_ID'].astype('str')\n",
    "data['Occupation'] = data['Occupation'].astype('str')\n",
    "data['Marital_Status'] = data['Marital_Status'].astype('str')"
   ]
  },
  {
   "cell_type": "code",
   "execution_count": 7,
   "metadata": {},
   "outputs": [],
   "source": [
    "ntop = 5 \n",
    "columns =['Gender', 'City_Category', 'Stay_In_Current_City_Years', 'Occupation', \n",
    "            'Age', 'Product_ID']\n",
    "for column in columns:\n",
    "    gen_other(ntop, data, column)"
   ]
  },
  {
   "cell_type": "code",
   "execution_count": 8,
   "metadata": {},
   "outputs": [],
   "source": [
    "data_new1 = data[['User_ID', 'Marital_Status','Product']]"
   ]
  },
  {
   "cell_type": "code",
   "execution_count": 9,
   "metadata": {},
   "outputs": [],
   "source": [
    "for column in columns:\n",
    "\tdummy = pd.get_dummies(data[column])\n",
    "\tdata_new1 = pd.concat([data_new1, dummy], axis = 1)"
   ]
  },
  {
   "cell_type": "code",
   "execution_count": 10,
   "metadata": {},
   "outputs": [],
   "source": [
    "del data"
   ]
  },
  {
   "cell_type": "code",
   "execution_count": 11,
   "metadata": {},
   "outputs": [],
   "source": [
    "data_new1 = data_new1.drop(['other', 'M', 'C'], axis = 1)"
   ]
  },
  {
   "cell_type": "code",
   "execution_count": 12,
   "metadata": {},
   "outputs": [],
   "source": [
    "data_new1.to_csv('NewBlackFridayData.csv', sep = ',')"
   ]
  }
 ],
 "metadata": {
  "kernelspec": {
   "display_name": "Python 3",
   "language": "python",
   "name": "python3"
  },
  "language_info": {
   "codemirror_mode": {
    "name": "ipython",
    "version": 3
   },
   "file_extension": ".py",
   "mimetype": "text/x-python",
   "name": "python",
   "nbconvert_exporter": "python",
   "pygments_lexer": "ipython3",
   "version": "3.7.1"
  }
 },
 "nbformat": 4,
 "nbformat_minor": 2
}
