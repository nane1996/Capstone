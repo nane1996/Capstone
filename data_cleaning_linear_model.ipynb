{
 "cells": [
  {
   "cell_type": "code",
   "execution_count": 1,
   "metadata": {},
   "outputs": [],
   "source": [
    "import numpy as np\n",
    "import pandas as pd \n",
    "\n",
    "data =  pd.read_csv('BlackFriday.csv', sep=',')"
   ]
  },
  {
   "cell_type": "code",
   "execution_count": 3,
   "metadata": {},
   "outputs": [
    {
     "data": {
      "text/html": [
       "<div>\n",
       "<style scoped>\n",
       "    .dataframe tbody tr th:only-of-type {\n",
       "        vertical-align: middle;\n",
       "    }\n",
       "\n",
       "    .dataframe tbody tr th {\n",
       "        vertical-align: top;\n",
       "    }\n",
       "\n",
       "    .dataframe thead th {\n",
       "        text-align: right;\n",
       "    }\n",
       "</style>\n",
       "<table border=\"1\" class=\"dataframe\">\n",
       "  <thead>\n",
       "    <tr style=\"text-align: right;\">\n",
       "      <th></th>\n",
       "      <th>User_ID</th>\n",
       "      <th>Product_ID</th>\n",
       "      <th>Gender</th>\n",
       "      <th>Age</th>\n",
       "      <th>Occupation</th>\n",
       "      <th>City_Category</th>\n",
       "      <th>Stay_In_Current_City_Years</th>\n",
       "      <th>Marital_Status</th>\n",
       "      <th>Product_Category_1</th>\n",
       "      <th>Product_Category_2</th>\n",
       "      <th>Product_Category_3</th>\n",
       "      <th>Purchase</th>\n",
       "    </tr>\n",
       "  </thead>\n",
       "  <tbody>\n",
       "    <tr>\n",
       "      <th>41820</th>\n",
       "      <td>1000441</td>\n",
       "      <td>P00368142</td>\n",
       "      <td>M</td>\n",
       "      <td>36-45</td>\n",
       "      <td>1</td>\n",
       "      <td>B</td>\n",
       "      <td>1</td>\n",
       "      <td>0</td>\n",
       "      <td>2</td>\n",
       "      <td>15.0</td>\n",
       "      <td>NaN</td>\n",
       "      <td>13027</td>\n",
       "    </tr>\n",
       "    <tr>\n",
       "      <th>276491</th>\n",
       "      <td>1000647</td>\n",
       "      <td>P00045342</td>\n",
       "      <td>M</td>\n",
       "      <td>36-45</td>\n",
       "      <td>12</td>\n",
       "      <td>B</td>\n",
       "      <td>1</td>\n",
       "      <td>1</td>\n",
       "      <td>1</td>\n",
       "      <td>5.0</td>\n",
       "      <td>17.0</td>\n",
       "      <td>3908</td>\n",
       "    </tr>\n",
       "    <tr>\n",
       "      <th>286808</th>\n",
       "      <td>1002106</td>\n",
       "      <td>P00248942</td>\n",
       "      <td>F</td>\n",
       "      <td>18-25</td>\n",
       "      <td>20</td>\n",
       "      <td>A</td>\n",
       "      <td>3</td>\n",
       "      <td>1</td>\n",
       "      <td>1</td>\n",
       "      <td>6.0</td>\n",
       "      <td>14.0</td>\n",
       "      <td>11926</td>\n",
       "    </tr>\n",
       "    <tr>\n",
       "      <th>230417</th>\n",
       "      <td>1005538</td>\n",
       "      <td>P00089342</td>\n",
       "      <td>M</td>\n",
       "      <td>46-50</td>\n",
       "      <td>12</td>\n",
       "      <td>B</td>\n",
       "      <td>2</td>\n",
       "      <td>1</td>\n",
       "      <td>8</td>\n",
       "      <td>NaN</td>\n",
       "      <td>NaN</td>\n",
       "      <td>7940</td>\n",
       "    </tr>\n",
       "    <tr>\n",
       "      <th>252881</th>\n",
       "      <td>1003032</td>\n",
       "      <td>P00210342</td>\n",
       "      <td>M</td>\n",
       "      <td>26-35</td>\n",
       "      <td>0</td>\n",
       "      <td>A</td>\n",
       "      <td>1</td>\n",
       "      <td>1</td>\n",
       "      <td>3</td>\n",
       "      <td>4.0</td>\n",
       "      <td>NaN</td>\n",
       "      <td>13376</td>\n",
       "    </tr>\n",
       "  </tbody>\n",
       "</table>\n",
       "</div>"
      ],
      "text/plain": [
       "        User_ID Product_ID Gender    Age  Occupation City_Category  \\\n",
       "41820   1000441  P00368142      M  36-45           1             B   \n",
       "276491  1000647  P00045342      M  36-45          12             B   \n",
       "286808  1002106  P00248942      F  18-25          20             A   \n",
       "230417  1005538  P00089342      M  46-50          12             B   \n",
       "252881  1003032  P00210342      M  26-35           0             A   \n",
       "\n",
       "       Stay_In_Current_City_Years  Marital_Status  Product_Category_1  \\\n",
       "41820                           1               0                   2   \n",
       "276491                          1               1                   1   \n",
       "286808                          3               1                   1   \n",
       "230417                          2               1                   8   \n",
       "252881                          1               1                   3   \n",
       "\n",
       "        Product_Category_2  Product_Category_3  Purchase  \n",
       "41820                 15.0                 NaN     13027  \n",
       "276491                 5.0                17.0      3908  \n",
       "286808                 6.0                14.0     11926  \n",
       "230417                 NaN                 NaN      7940  \n",
       "252881                 4.0                 NaN     13376  "
      ]
     },
     "execution_count": 3,
     "metadata": {},
     "output_type": "execute_result"
    }
   ],
   "source": [
    "data.sample(5)"
   ]
  },
  {
   "cell_type": "code",
   "execution_count": 2,
   "metadata": {},
   "outputs": [],
   "source": [
    "def gen_other(n_top, df, field):\n",
    "\t''' Take the specified top numbers and replace the rest with 'Others' '''\n",
    "\tkeys = list(data[field].value_counts().nlargest(int(n_top)).to_dict().keys())\n",
    "\tdata[field] = data[field].apply(lambda x:x if x in keys else 'other')"
   ]
  },
  {
   "cell_type": "code",
   "execution_count": 3,
   "metadata": {},
   "outputs": [],
   "source": [
    "data['Product_Category_3'] = data['Product_Category_3'].replace(np.nan, 'other', regex=True)\n",
    "data['Product_Category_2'] = data['Product_Category_2'].replace(np.nan, 'other', regex=True)"
   ]
  },
  {
   "cell_type": "code",
   "execution_count": 4,
   "metadata": {},
   "outputs": [],
   "source": [
    "data['Purchase'] = data['Purchase'].astype('int')\n",
    "data['User_ID'] = data['User_ID'].astype('str')\n",
    "data['Occupation'] = data['Occupation'].astype('str')\n",
    "data['Marital_Status'] = data['Marital_Status'].astype('str')\n",
    "data['Product_Category_1'] = data['Product_Category_1'].astype('str')"
   ]
  },
  {
   "cell_type": "code",
   "execution_count": 5,
   "metadata": {},
   "outputs": [],
   "source": [
    "ntop = 5 \n",
    "columns =['Gender', 'City_Category', 'Stay_In_Current_City_Years', 'Occupation', \n",
    "            'Age', 'Product_ID', 'Product_Category_1', 'Product_Category_2', 'Product_Category_3']\n",
    "for column in columns:\n",
    "    gen_other(ntop, data, column)"
   ]
  },
  {
   "cell_type": "code",
   "execution_count": 6,
   "metadata": {},
   "outputs": [],
   "source": [
    "data1 = data[['User_ID', 'Purchase', 'Marital_Status']]"
   ]
  },
  {
   "cell_type": "code",
   "execution_count": 7,
   "metadata": {},
   "outputs": [],
   "source": [
    "for column in columns:\n",
    "\tdummy = pd.get_dummies(data[column])\n",
    "\tdata1 = pd.concat([data1, dummy], axis = 1)"
   ]
  },
  {
   "cell_type": "code",
   "execution_count": 8,
   "metadata": {},
   "outputs": [],
   "source": [
    "del data"
   ]
  },
  {
   "cell_type": "code",
   "execution_count": 9,
   "metadata": {},
   "outputs": [],
   "source": [
    "data1 = data1.drop(['other', 'M', 'C'], axis = 1)"
   ]
  },
  {
   "cell_type": "code",
   "execution_count": 10,
   "metadata": {},
   "outputs": [],
   "source": [
    "data1.to_csv('BlackFridaydata.csv', sep = ',')"
   ]
  }
 ],
 "metadata": {
  "kernelspec": {
   "display_name": "Python 3",
   "language": "python",
   "name": "python3"
  },
  "language_info": {
   "codemirror_mode": {
    "name": "ipython",
    "version": 3
   },
   "file_extension": ".py",
   "mimetype": "text/x-python",
   "name": "python",
   "nbconvert_exporter": "python",
   "pygments_lexer": "ipython3",
   "version": "3.7.1"
  }
 },
 "nbformat": 4,
 "nbformat_minor": 2
}
